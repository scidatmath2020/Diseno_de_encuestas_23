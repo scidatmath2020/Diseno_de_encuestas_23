{
 "cells": [
  {
   "cell_type": "markdown",
   "id": "d94c9430",
   "metadata": {},
   "source": [
    "![imagenes](logo.png)"
   ]
  },
  {
   "cell_type": "markdown",
   "id": "1ac06f8b",
   "metadata": {},
   "source": [
    "# Preparación del marco de muestreo\n",
    "\n",
    "Se refiere a la *detección, evaluación, organización y elaboración* de los listados, directorios o materiales cartográficos para la identificación de todas las unidades de la población objeto de estudio.\n",
    "\n",
    "La población definida a través del marco de muestreo **debe contener a toda la población objeto de estudio**, de lo contrario la encuesta aportará resultados poco confiables. Un marco de muestreo debe tener propiedades relacionadas con la calidad, con la eficiencia y el costo.\n",
    "\n",
    "En la práctica, se dan distintas situaciones en relación con la disponibilidad de un marco de muestreo, cada una con implicaciones en cuanto a recursos a utilizarse. Se destacan los siguientes estados de un marco de muestreo:\n",
    "\n",
    "• Se dispone de todo el marco al inicio del estudio\n",
    "\n",
    "• El marco es parcial y debe actualizarse\n",
    "\n",
    "• No existe el marco y debe construirse\n",
    "\n",
    "\n",
    "**El estado ideal de un marco muestral se tiene cuando está actualizado y las imperfecciones se han eliminado o reducido.** \n",
    "\n",
    "En las dos siguientes secciones se describen los componentes involucrados en un marco de muestreo y las imperfecciones que puede contener.\n",
    "\n"
   ]
  },
  {
   "cell_type": "markdown",
   "id": "ad2a2d09",
   "metadata": {},
   "source": [
    "## El marco de muestreo\n",
    "\n",
    "El marco de muestreo, denotado por $M$, es **el listado en el cual se busca identificar a todos los elementos de una\n",
    "población objeto de estudio** y que permite seleccionar una muestra de esta, con fines de estimación estadística.\n",
    "\n",
    "Se deben identificar los elementos que se involucran en el marco de muestreo. La población objeto de estudio se\n",
    "denota como $U$. \n",
    "\n",
    "La población objeto de estudio listada en el marco de muestreo se etiqueta como $U_M$. \n",
    "\n",
    "La unión de estas dos poblaciones define el conjunto completo de elementos $C=U\\cup U_M$, el cual se compone de tres partes:\n",
    "\n",
    "* Los elementos de la población objeto de estudio que están listados en el marco de muestreo: \n",
    "\n",
    "$$U_L=U\\cap U_M$$\n",
    "\n",
    "* Los elementos de la población objeto de estudio que no están listados en el marco de muestreo:\n",
    "\n",
    "$$U_{sinL}=U-U_M$$\n",
    "\n",
    "* Los elementos que no pertenecen a la población objeto de estudio, pero están listados en el marco de muestreo:\n",
    "\n",
    "$$\\overline{U}=U_M-U_L$$"
   ]
  },
  {
   "cell_type": "markdown",
   "id": "98f866b3",
   "metadata": {},
   "source": [
    "La muestra se selecciona del marco de muestreo $M$ con un *diseño muestral específico*. Las unidades en la muestra están listadas en $s_M$, donde $s_M$ es un subconjunto de $U_M$. \n",
    "\n",
    "Algunos elementos en $s_M$ son parte de la población objeto de estudio, es decir, el conjunto $s = 𝑠_M \\cap U$. \n",
    "\n",
    "La diferencia, $\\overline{s} =s_M-s$, contiene a los elementos que no pertenecen a la población objeto de estudio; dichos elementos en $\\overline{s}$ pueden ya no existir y en caso de existir, no son de interés para la encuesta.\n",
    "\n",
    "![imagenes](im01.png)"
   ]
  },
  {
   "cell_type": "markdown",
   "id": "f56f9c66",
   "metadata": {},
   "source": [
    "### Imperfecciones del marco de muestreo\n",
    "\n",
    "Básicamente existen tres imperfecciones:\n",
    "\n",
    "* **Problema de subcobertura.** Algunos elementos de la población objeto de estudio no están listados y por lo tanto no pueden ser seleccionados en la muestra $s$. Esto es, $U_{sinL}$ no está vacío.\n",
    "\n",
    "![imagenes](im02.png)\n",
    "\n",
    "* **Problema de supercobertura.** El conjunto $\\overline{U}$ no está vacío; algunos elementos en el marco de muestreo no pertenecen a la población objeto de estudio \n",
    "\n",
    "![imagenes](im03.png)\n",
    "\n",
    "* **Duplicidad.** En el marco de muestreo hay elementos que están listados en más de una ocasión (registros duplicados).\n"
   ]
  },
  {
   "cell_type": "markdown",
   "id": "4f50adb9",
   "metadata": {},
   "source": [
    "## Construcción y mantenimiento del marco muestral\n",
    "\n",
    "La siguiente lista describe las etapas para la construcción y mantenimiento de un marco muestral:\n",
    "\n",
    "**Etapa 1. Identificación de los elementos.** Deben tomarse en cuenta los siguientes factores:\n",
    "\n",
    "(i) El costo que involucra el establecimiento y mantenimiento, incluyendo la información auxiliar. \n",
    "\n",
    "(ii) La disponibilidad de la información requerida para cada elemento en el marco. \n",
    "\n",
    "(iii) La estabilidad de los elementos del marco en un periodo y \n",
    "\n",
    "(iv) El tiempo necesario para construir el marco.\n",
    "\n",
    "**Etapa 2. Desarrollo.** Consiste en la construcción de una base de datos después de un proceso de investigación, recolección, estandarización y organización de la información requerida para los elementos del marco.\n",
    "\n",
    "**Etapa 3. Validación.** Consiste en la evaluación de la calidad y la cobertura alcanzada en el marco obtenido después de las Etapas 1 y 2.\n",
    "\n",
    "**Etapa 4. Administración.** Debe definir procedimientos para preservar la calidad del marco de muestreo. Si se utilizará para futuras encuestas, también se debe considerar las necesidades de otros usuarios del marco.\n",
    "\n",
    "**Etapa 5. Mantenimiento.** Involucra las modificaciones y actualizaciones requeridas. Duplicados y “muertes” deben\n",
    "ser removidos, los “nacimientos” incorporados y la información auxiliar actualizada. Mantener actualizado un\n",
    "marco de muestreo puede involucrar un alto costo.\n",
    "\n",
    "*______________________________________________________________________________________________________________________________*\n",
    "\n",
    "\n",
    "La información que debe contener un marco de muestreo son los datos relacionados con:\n",
    "\n",
    "**a. Identificación:** se emplea para identificar de manera única a cada elemento en el marco.\n",
    "\n",
    "**b. Contacto:** sirve para localizar a los elementos seleccionados en la muestra durante el proceso de captación de datos.\n",
    "\n",
    "**c. Clasificación:** esta información es útil para la inclusión en la muestra y posiblemente para hacer estimaciones para la muestra, por ejemplo, una medida de tamaño (número de empleados en una empresa, ingresos monetarios totales de una empresa), divisiones geográficas, estratificación, entre otros.\n",
    "\n",
    "**d. Mantenimiento:** esta información se necesita en caso de que la encuesta se repita en el futuro, por ejemplo,\n",
    "fechas de agregación de registro o cambios en el marco.\n",
    "\n",
    "**Observación.** Como mínimo, el marco de muestreo debe contener Identificación y Contacto.\n"
   ]
  },
  {
   "cell_type": "markdown",
   "id": "2847ba0b",
   "metadata": {},
   "source": [
    "## Marcos de área\n",
    "\n",
    "En un marco de área las unidades son áreas geográficas. La población objeto de estudio de la encuesta se encuentra dentro de estas áreas geográficas. Los marcos de área se pueden usar cuando una encuesta es de naturaleza geográfica o cuando no se dispone de un marco muestral adecuado, en cuyo caso el marco de área puede ser utilizado como vehículo para crearlo. **Un marco de área puede ser una lista, mapas, fotografías áreas, imágenes de satélite o cualquier otra colección de unidades terrestres.**\n",
    "\n",
    "Hay dos tipos de marcos de área: **cuadrícula** y **terreno**. La diferencia entre una cuadrícula y terreno depende del objetivo analítico de la encuesta en lugar de la estructura del marco. Los marcos de terrenos contienen unidades de muestreo finales que se observan en su totalidad, mientras que los marcos de cuadrícula contienen unidades terrestres que serán divididos y muestreados en más etapas. Los marcos de terrenos son usados regularmente en encuestas agropecuarias y de medio ambiente. En algunas ocasiones se debe seleccionar una muestra de unidades dentro de áreas geográficas. Los conglomerados geográficos de unidades muestrales componen el marco de cuadrícula. Primero se muestrean los conglomerados geográficos, después se selecciona una muestra de unidades dentro de los conglomerados muestreados.\n",
    "\n",
    "Los marcos de área deben cubrir toda la población objeto de estudio y dividirlo en unidades geográficas mutuamente excluyentes. Para encuestas que hacen estimaciones basadas en delimitaciones políticas, como municipios o estados, por lo general se debe hacer alguna compensación entre los límites geográficos visibles y los \"invisibles\" (por ejemplo, fronteras políticas). Cambios en la geografía política como anexiones, así como cambios en la geografía física, como cauce de ríos, cambio en la vegetación, árboles o carreteras, deben reflejarse en el marco de área. Si no se actualiza el marco pueden causar confusión en la recolección de datos, aumento de sesgo de cobertura y variación de cobertura.\n",
    "\n",
    "La temporalidad está fuertemente influenciada por el cambio en el nivel de cobertura de un año a otro, provocando errores de muestreo. Un marco de área siempre está completo y permanece útil durante mucho tiempo.\n"
   ]
  },
  {
   "cell_type": "markdown",
   "id": "1d186bc8",
   "metadata": {},
   "source": [
    "## Marcos muestrales múltiples\n",
    "\n",
    "Las encuestas de marcos múltiples pueden mejorar en gran medida la eficiencia y reducir el sesgo de cobertura insuficiente.\n",
    "\n",
    "Los marcos múltiples deben adoptar un diseño de encuesta muestral que combine el *marco de área* con un marco lista como apoyo para evitar la inestabilidad de las estimaciones. El papel del marco de área en el enfoque de marcos múltiples es esencialmente resolver los problemas relacionados con la falta de completez del marco.\n",
    "\n",
    "Dentro de las recomendaciones internacionales se comenta la importancia de tener clasificadas las unidades muestrales en todos los marcos e identificar cuales se localizan en la intersección de ellos, ya que este método de marcos múltiples es sensible a una mala clasificación provocando sesgos en la estimación. Así también, cuidar que las muestras en los diferentes marcos tengan un mismo cuestionario y una misma administración, ya que esto puede provocar sesgos en la estimación.\n",
    "\n",
    "Se asume que existen dos o más marcos de muestreo, cada uno de ellos con un cierto nivel de subcobertura, pero su unión puede dar una cobertura más completa de la población objeto de estudio. \n",
    "\n",
    "Se asume lo siguiente:\n",
    "\n",
    "* Cada elemento $k$ en la población objeto de estudio $U$ está en al menos uno de los dos marcos $U_A$ y $U_B$.\n",
    "\n",
    "* Una muestra probabilística se toma de cada marco: $s_A$ de $U_A$ y $s_B$ de $U_B$.\n",
    "\n",
    "* La pertenencia a cada marco puede definirse para cada elemento muestreado\n",
    "\n",
    "Se distinguen tres dominios no traslapados de la población objeto de estudio $U$:\n",
    "\n",
    "* Dominio $A$: lo componen los elementos solamente en $U_A$, es decir, $A = U − U_B$\n",
    "* Dominio $B$: lo componen los elementos solamente en $U_B$, es decir, $B = U − U_A$\n",
    "* Dominio $AB$: lo componen los elementos tanto en $U_A$ como en $U_B$. Es decir, $AB =U_A \\cap U_B$\n",
    "\n",
    "\n",
    "Bajo estos supuestos, se tiene que $U = A \\cup B \\cup AB$, y el estimador de, por ejemplo, un total $t$ se obtiene como\n",
    "\n",
    "$$\\hat{t}=\\hat{t}_A+\\hat{t}_B+\\hat{t}_{AB}$$\n",
    "\n",
    "donde $\\hat{t}$, $\\hat{t}_A$, $\\hat{t}_B$, $\\hat{t}_{AB}$ corresponden a los estimadores del total para la población objeto de estudio, domino $A$, dominio $B$ y dominio $AB$, respectivamente. Cuando los marcos muestrales son ajenos, el Dominio $AB$ es vacío y por lo tanto el total $\\hat{t}_{AB}$ es cero.\n",
    "\n",
    "![imagenes](im04.png)\n"
   ]
  },
  {
   "cell_type": "markdown",
   "id": "d7d35856",
   "metadata": {},
   "source": [
    "## Marcos de muetreo maestros (MMM)\n",
    "\n",
    "El **MMM** se presenta como una lista organizada en forma de base de datos que contiene a las unidades de observación registradas en un censo que participarán en cada una de las fases de diseño, distribución y selección de la muestra de una encuesta. El MMM principalmente se emplea para identificar y seleccionar las unidades de muestreo y como base para realizar estimaciones basadas en los datos de la muestra; esto implica que la población objeto de estudio a ser seleccionada para la muestra debe estar representada de forma física; es decir, el MMM también está formado por todos los mapas y planos a diferentes escalas que permiten identificar en forma precisa y clara los límites físicos que tienen las diferentes unidades de selección, considerándose como parte principal de éste los registros y listados en los que se detalla las referencias que faciliten identificar en forma exacta las unidades de observación seleccionadas.\n",
    "\n",
    "El Marco contiene información sobre la división político-administrativa y geográfica del país; como también sobre los volúmenes de viviendas (u otras unidades de observación) y de población objeto de estudio total, por grupos de edad y sexo, entre otras variables necesarias para clasificar a los hogares de acuerdo con determinadas características según los objetivos específicos de cada encuesta. Todos y cada uno de los elementos de los que está compuesto el Marco tienen una probabilidad conocida y diferente de cero de ser seleccionados de alguna de las muestras que se puedan extraer del mismo.\n",
    "\n",
    "La depuración y actualización del marco de muestreo puede realizarse con apoyo en diversos materiales disponibles y en procesos de digitalización de listados y croquis, sistemas para conformar unidades de muestreo y sistemas para la selección. Si con los materiales existentes no se puede integrar el marco, puede ser necesario construir uno específico, sin embargo, los costos de este pueden hacer inviable el Programa de Información. En este caso se recomienda formar unidades de muestreo intermedias entre las distintas etapas de selección.\n",
    "\n",
    "Para mejorar la eficiencia del diseño es necesario que el marco contenga información que permita separar las unidades de muestreo en estratos, formados preferentemente en función de variables correlacionadas con los indicadores objetivo. La estratificación óptima logra que los elementos que se incluyan dentro de cada estrato sean homogéneos y que haya heterogeneidad entre los estratos; así mismo, deben incluir a toda la población objeto de estudio de modo que cada unidad de muestreo pertenezca exactamente a un solo estrato.\n",
    "\n"
   ]
  }
 ],
 "metadata": {
  "kernelspec": {
   "display_name": "Python 3 (ipykernel)",
   "language": "python",
   "name": "python3"
  },
  "language_info": {
   "codemirror_mode": {
    "name": "ipython",
    "version": 3
   },
   "file_extension": ".py",
   "mimetype": "text/x-python",
   "name": "python",
   "nbconvert_exporter": "python",
   "pygments_lexer": "ipython3",
   "version": "3.11.4"
  }
 },
 "nbformat": 4,
 "nbformat_minor": 5
}
