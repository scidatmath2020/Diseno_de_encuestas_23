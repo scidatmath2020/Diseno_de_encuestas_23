{
 "cells": [
  {
   "cell_type": "markdown",
   "id": "495876ae",
   "metadata": {},
   "source": [
    "![imagenes](logo.png)"
   ]
  },
  {
   "cell_type": "markdown",
   "id": "3218e8ac",
   "metadata": {},
   "source": [
    "# Determinación del tamaño de la muestra\n",
    "\n",
    "La elección de un esquema de muestreo debe ser el resultado de varios principios:\n",
    "\n",
    "* Principio de aleatorización: consiste en seleccionar con un diseño de muestreo de entropía máxima o cercana a esta.\n",
    "* Principio de sobrerrepresentación: la idea es sobremuestrear a las unidades con mayor incertidumbre debido a que la muestra debe recolectar tanta información de la población objeto de estudio como sea posible, lo que implica la tendencia a diseños muestrales con probabilidades de selección distintas.\n",
    "* Principio de restricción: consiste en seleccionar solo a las muestras con un conjunto de características deseables, es decir, utilizar un proceso de verificación (muestreo balanceado) para evitar muestras con dominios, estratos o categorías vacías.\n",
    "\n",
    "Elegido el esquema de muestreo, ahora es necesario determinar aspectos referentes a la muestra, en particular su tamaño y su procedimiento de selección.\n"
   ]
  },
  {
   "cell_type": "markdown",
   "id": "6299ea36",
   "metadata": {},
   "source": [
    "## Cálculo del tamaño de la muestra\n",
    "\n",
    "El tamaño de la muestra es el número de unidades de observación que deben estar incluidas en la muestra.\n",
    "\n",
    "En el tipo de muestreo probabilístico, contrario a la creencia de que el tamaño de muestra debe guardar cierta proporción con el tamaño de la población objeto de estudio, los aspectos que se involucran en el cálculo están relacionados con la característica o fenómeno a estudiar, el nivel de precisión y confianza que se desea lograr, el esquema de muestreo que se sigue para obtener la información, así como el dominio de estudio o área a la que se desea brindar la información.\n",
    "\n",
    "* Cuando una característica se presenta con frecuencia en la población objeto de estudio, el tamaño de muestra es menor que el requerido para una característica extraña o poco común, pues en este último caso se necesita entrevistar a una gran parte de la población objeto de estudio para obtener algunos casos que presenten la característica o fenómeno de interés.\n",
    "\n",
    "* La variabilidad de la característica a estudiar también se involucra, pues se requiere un tamaño de muestra mayor para indicadores que toman un número infinito de valores; por ejemplo, ingreso por trabajo (que va desde 0 por trabajador familiar sin pago, hasta lo que gana el director de alguna compañía), diferente a lo que se requiere para indicadores que toman valores más acotados como estatura al nacer.\n",
    "\n",
    "* El nivel de precisión está relacionado tanto con el error permitido (la distancia entre la estimación y el valor “real”) como con la confianza con que se va a ofrecer este resultado; por ejemplo, si se desea obtener resultados con 95% de confianza y un error máximo de 8%, significa que de 100 muestras sólo 5 tendrían un error mayor al 8 por ciento.\n",
    "\n",
    "* En el caso de las distintas subdivisiones territoriales (o dominios de estudio) indicadas por el desglose geográfico, se debe hacer un cálculo por separado para cada una de ellas; el tamaño de muestra final será la suma de los tamaños de muestra de cada subdivisión.\n",
    "\n",
    "Es común que en encuestas de propósitos múltiples se desee brindar información de distintos indicadores objetivo, de esta manera es necesario calcular un tamaño de muestra para cada uno y elegir el tamaño de muestra mayor, ya que éste cubrirá las especificaciones de precisión de todos los indicadores. \n",
    "\n",
    "Sin embargo, este tamaño de muestra puede resultar muy costoso, entonces se debe tomar la decisión de no incluir algunos indicadores en la encuesta, o bien, admitir para ellos un error de estimación más alto que para el resto. "
   ]
  },
  {
   "cell_type": "markdown",
   "id": "4400ffb1",
   "metadata": {},
   "source": [
    "Considerando todo lo anterior se debe elegir la expresión matemática que permita calcular el tamaño de muestra.\n",
    "\n",
    "Es necesario destacar que la expresión definida considerando los aspectos anteriores, se ve afectada por la modalidad de muestreo elegida y el número de etapas realizadas para obtener la información, es decir por el efecto del diseño (DEFF), la tasa de no respuesta (TNR), y el coeficiente de variación (CV), por lo cual la expresión matemática final debe incluir cada uno de estos términos.\n",
    "\n",
    "Por otra parte, el grado de complejidad de la ecuación también depende de los valores particulares que adquieran algunos de los aspectos arriba mencionados; así, por ejemplo, se puede tener una ecuación muy simple cuando: el error es absoluto, el tipo de parámetro es una proporción, la distribución del Indicador Objetivo es normal y el esquema por aplicar es MAS.\n",
    "\n",
    "**Observación.** El *efecto de diseño DEFF* es el cociente de la varianza en la estimación del diseño utilizado, entre la varianza obtenida, considerando un muestreo aleatorio simple para un mismo tamaño de muestra. Indica una medida de la pérdida o ganancia de precisión por usar un diseño más complejo en lugar de una muestra aleatoria simple."
   ]
  },
  {
   "cell_type": "markdown",
   "id": "1fce8012",
   "metadata": {},
   "source": [
    "Este es un ejemplo del cálculo de un tamaño de muestra para una proporción, considerando el efecto de diseño, la tasa de no respuesta, además de los elementos esenciales de precisión y confianza:\n",
    "\n",
    "$$n=\\frac{z^2qDEFF}{r^2p(1-tnr)}$$\n",
    "\n",
    "donde \n",
    "\n",
    "* $n$ es el tamaño de la muestra.\n",
    "* $z$ es el valor del cuantil de una distribución normal estándar para un nivel de confianza fijado.\n",
    "* $p$ estimación de la proporción de interés de una muestra piloto o de encuestas anteriores.\n",
    "* $r$ precisión relativa (error relativo fijo)\n",
    "* $q=1-p$\n",
    "* $tnr$ tasa de no respuesta\n",
    "* $DEFF$ efecto del diseño\n"
   ]
  },
  {
   "cell_type": "markdown",
   "id": "4806a763",
   "metadata": {},
   "source": [
    "Adicionalmente, se debe mencionar que, en el muestreo estratificado, con frecuencia los resultados se requieren para ciertos estratos de la población objeto de estudio y los límites de error deseados se establecen para cada uno de ellos; en este caso, se debe calcular por separado el tamaño en cada grupo y el tamaño de muestra final será la suma de las establecidas para cada estrato. Esta misma situación puede aplicarse cuando se requiere hacer estimaciones por separado para dominios estudio."
   ]
  },
  {
   "cell_type": "markdown",
   "id": "542adc0c",
   "metadata": {},
   "source": [
    "### Ejemplo del cálculo del tamaño de muestra para la ENPOL 2016\n",
    "\n",
    "El cálculo del tamaño de muestra se llevó a cabo por separado en cada entidad y estrato (centro penitenciario). La muestra se obtiene a partir de un diseño muestral aleatorio simple para estimar una proporción, por lo que el efecto de diseño DEFF=1, con un nivel de confianza del 90%, un error relativo del 13% y una tasa de no respuesta del 15%. El tamaño de muestra se obtiene con la siguiente ecuación:\n",
    "\n",
    "$$n_{eh}=\\frac{\\frac{z^2q_{eh}}{r^2p_{eh}}}{1+\\frac{z^2q_{eh}}{N_{eh}r^2p_{eh}}}\\times\\frac{1}{1-TNR_{eh}}$$\n",
    "\n",
    "Donde:\n",
    "\n",
    "* $n_{eh}$ tamaño de la muestra en el estrato $h$ de la entidad $e$.\n",
    "* $N_{eh}$ total de la población privada de la libertad del marco en el estrato $h$ de la entidad $e$.\n",
    "* $p_{eh}$ proporción del $h$-ésimo estrato, de la $e$-ésima entidad.\n",
    "* $q_{eh}=1-p_{eh}$\n",
    "* $r$ error relativo máximo aceptable.\n",
    "* $z$ valor asentado en las tablas estadísticas de la distribución normal estándar que garantiza obtener las estimaciones con una confianza prefijada.\n",
    "* $TNR_{eh}$ tasa de no respuesta máxima esperada en el $h$-ésimo estrato, en la $e$-ésima entidad.\n",
    "\n"
   ]
  },
  {
   "cell_type": "markdown",
   "id": "c864809f",
   "metadata": {},
   "source": [
    "### Ejemplo del cálculo del tamaño de muestras para la ENOE 2019\n",
    "\n",
    "El tamaño de la muestra para cada uno de los dominios8 de estudio se calculó utilizando la Tasa de Desempleo Abierto (TDA), considerado Indicador Objetivo principal de la encuesta, y la que requiere el tamaño de muestra mayor, lo que garantiza que las estimaciones del resto de los indicadores objetivo queden cubiertas con este tamaño. La expresión empleada para el cálculo es la siguiente:\n",
    "\n",
    "$$n=\\frac{z^2q DEFF}{r^2p(1-tnr)TNP*PHV}$$\n",
    "\n",
    "Donde:\n",
    "\n",
    "* $n$ tamaño de la muestra\n",
    "* $p$ estimación de la proporción de interés: la tasa de desempleo abierto.\n",
    "* $q=1-p$\n",
    "* $r$ error relativo máximo aceptable.\n",
    "* $z$ valor asentado en las tablas estadísticas de la distribución normal estándar que garantiza obtener las estimaciones con una confianza prefijada.\n",
    "* $DEFF$ efecto de diseño definido como el cociente de la varianza en la estimación del diseño utilizado, entre la varianza obtenida considerando un muestreo aleatorio simple para un mismo tamaño de muestra.\n",
    "* $tnr$ tasa de no respuesta máxima esperada.\n",
    "* $TNP$ tasa neta de participación.\n",
    "* $PHV$ promedio de habitantes de 15 años y más de edad por vivienda.\n"
   ]
  },
  {
   "cell_type": "markdown",
   "id": "430ecb96",
   "metadata": {},
   "source": [
    "### Ejemplo del cálculo del tamaño de muestras para la ENVIPE 2023\n",
    "\n",
    "La expresión empleada para el cálculo de la muestra de ENVIPE 2023 fue $$n=\\frac{z^2qDEFF}{r^2p(1-tnr)}$$\n",
    "\n",
    "Considerando una confianza del 90%, un efecto de diseño de 2.078 observado en encuestas anteriores, así como una tasa de  no respuesta máxima esperada del 15 %, un error relativo máximo esperado del 7.625 %, para una proporción de 1.10 %, se obtuvo un tamaño de muestra a nivel nacional de 102,924 viviendas. Este tamaño de muestra se ajustó, por cuestiones operativas, a 102,362 viviendas.\n",
    "\n",
    "En efecto:\n",
    "$DEFF=2.078$, $tnr=0.15$, $r=0.07625$, $p=0.0110$ y $z=1.65$.\n",
    "\n",
    "Por lo tanto \n",
    "$$n=\\frac{z^2qDEFF}{r^2p(1-tnr)}=\\frac{1.65^2(1-0.011)\\cdot2.078}{0.07625^2\\cdot0.011(1-0.15)}=102924$$\n"
   ]
  },
  {
   "cell_type": "markdown",
   "id": "24792834",
   "metadata": {},
   "source": [
    "### Ejemplo del cálculo del tamaño de muestra para ENVI 1999\n",
    "\n",
    "Para el cálculo del tamaño de muestra se tomó como variable de referencia la proporción de personas que durante la encuesta piloto declararon haber recibido golpes con puño, la cual por ser una proporción baja (5.88%) permite que el resto de las variables de interés que se presentan con una mayor frecuencia queden automáticamente cubiertas.\n",
    "\n",
    "La expresión empleada para el cálculo es la siguiente:\n",
    "\n",
    "$$n=\\frac{z^2q DEFF}{r^2p(1-tnr)PHV}$$\n",
    "\n",
    "Considerando una confianza del 90%, un error relativo de 6.2%, un efecto de diseño de 1.87, una tasa de no respuesta máxima esperada de 15% y un promedio de 4.2 habitantes por vivienda, el tamaño de muestra resultante fue de 6,109 viviendas, que se redondeó a 6,000.\n",
    "\n",
    "En efecto:\n",
    "$DEFF=1.87$, $tnr=0.15$, $r=0.062$, $p=0.0588$, $z=1.65$ y $PHV=4.2$\n",
    "\n",
    "Por lo tanto \n",
    "$$n=\\frac{z^2q DEFF}{r^2p(1-tnr)PHV}=\\frac{1.65^2(1-0.0588)\\cdot1.87}{0.062^2\\cdot0.0568(1-0.15)\\cdot4.2}=6109$$"
   ]
  },
  {
   "cell_type": "code",
   "execution_count": null,
   "id": "d9d03478",
   "metadata": {},
   "outputs": [],
   "source": [
    "1.644**2 * (1-0.0588) * 1.87 / (0.062**2 * 0.0568 * (1-0.15) * 4.2)"
   ]
  },
  {
   "cell_type": "markdown",
   "id": "8bdab9d6",
   "metadata": {},
   "source": [
    "### Ejemplo del cálculo del tamaño de muestra para ENOE 2023\n",
    "\n",
    "Considerando una confianza de 90 % y un efecto de diseño de 4.00 observado en los estudios anteriores, así como una tasa neta de participación de 60.4 %, un promedio de 2.70 habitantes por vivienda, un error relativo máximo esperado de 5.05 % para una TDA de 2 %, y una tasa de no respuesta de 15 %. ¿Cuál sería un buen tamaño de muestra?"
   ]
  },
  {
   "cell_type": "markdown",
   "id": "9b75f7e0",
   "metadata": {},
   "source": [
    "## Distribución de la muestra en estratos\n",
    "\n",
    "Por otra parte, aun cuando los resultados no se requieran a ese nivel en particular, se debe tener cuidado de asignar muestra a todos los estratos $L$ contemplados en el marco de muestreo. En caso de que el tamaño de muestra $n$ no lo permita, se deben hacer los ajustes (uniones de estratos) necesarios para no dejar a ninguno sin representación.\n",
    "\n",
    "Al respecto, existen varias formas de distribuir o afijar la muestra dentro de los diferentes estratos $n_h$; la elección de\n",
    "alguna de estas opciones está en función del conocimiento y comportamiento de las varianzas $S_h$ y de los costos $C_h$ de captar un cuestionario en cada uno de los estratos."
   ]
  },
  {
   "cell_type": "markdown",
   "id": "0d1ccf9f",
   "metadata": {},
   "source": [
    "### Distribución de igual número en cada estrato\n",
    "\n",
    "Esta opción es la más sencilla de aplicar y asume que los estratos presentan varianzas, costos y tamaños iguales $N_h$. Si esto no es así, redunda en estimaciones más pobres que las tres siguientes alternativas; sin embargo, puede ser útil cuando se pretende obtener resultados con precisiones semejantes en los diferentes estratos. Para obtener la distribución se aplica la expresión:\n",
    "\n",
    "$$n_h=\\frac{n}{L}$$\n",
    "\n",
    "Donde\n",
    "\n",
    "* $n$ es el tamaño de la muestra.\n",
    "* $L$ es el total de estratos.\n",
    "\n",
    "### Distribución proporcional en cada estrato\n",
    "\n",
    "Se usa si los estratos presentan varianzas iguales, costos también iguales y sus tamaños son distintos. La distribución\n",
    "se obtiene con:\n",
    "\n",
    "$$n_h=\\frac{N_h}{L}n$$\n",
    "\n",
    "Donde\n",
    "\n",
    "* $N_h$ es el tamaño de población en el estrato $h$.\n",
    "* $L$ es el total de estratos.\n",
    "* $n$ es el tamaño de la muestra.\n",
    "\n",
    "### Distribución de Neyman\n",
    "\n",
    "Se aplica cuando los costos son iguales en todos los estratos, las varianzas son distintas y los tamaños de los estratos\n",
    "también son distintos. En este caso, la expresión a emplear es:\n",
    "\n",
    "$$n_h=\\frac{N_hS_h}{N_1S_1+N_2S_2+...+N_LS_L}n$$\n",
    "\n",
    "donde $S_i$ es la varianza en el estrato $i$.\n",
    "\n",
    "### Distribución óptima\n",
    "\n",
    "Se emplea cuando se tienen costos muy diferentes por estrato, las varianzas son distintas y los tamaños de los\n",
    "estratos también son diferentes. La distribución se genera con:\n",
    "\n",
    "$$n_h=\\frac{\\frac{N_hS_h}{\\sqrt{C_h}}}{\\frac{N_1S_1}{\\sqrt{C_1}}+\\frac{N_2S_2}{\\sqrt{C_2}}+...+\\frac{N_LS_L}{\\sqrt{C_L}}}n$$ \n",
    "\n",
    "donde $C_i$ es el costo en el estrato $i$\n"
   ]
  }
 ],
 "metadata": {
  "kernelspec": {
   "display_name": "R",
   "language": "R",
   "name": "ir"
  },
  "language_info": {
   "codemirror_mode": "r",
   "file_extension": ".r",
   "mimetype": "text/x-r-source",
   "name": "R",
   "pygments_lexer": "r",
   "version": "3.6.1"
  }
 },
 "nbformat": 4,
 "nbformat_minor": 5
}
