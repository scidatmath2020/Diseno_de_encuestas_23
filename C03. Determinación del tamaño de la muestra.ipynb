{
 "cells": [
  {
   "cell_type": "markdown",
   "id": "495876ae",
   "metadata": {},
   "source": [
    "![imagenes](logo.png)"
   ]
  },
  {
   "cell_type": "markdown",
   "id": "3218e8ac",
   "metadata": {},
   "source": [
    "# Determinación del tamaño de la muestra\n",
    "\n",
    "La elección de un esquema de muestreo debe ser el resultado de varios principios:\n",
    "\n",
    "* Principio de aleatorización: consiste en seleccionar con un diseño de muestreo de entropía máxima o cercana a esta.\n",
    "* Principio de sobrerrepresentación: la idea es sobremuestrear a las unidades con mayor incertidumbre debido a que la muestra debe recolectar tanta información de la población objeto de estudio como sea posible, lo que implica la tendencia a diseños muestrales con probabilidades de selección distintas.\n",
    "* Principio de restricción: consiste en seleccionar solo a las muestras con un conjunto de características deseables, es decir, utilizar un proceso de verificación (muestreo balanceado) para evitar muestras con dominios, estratos o categorías vacías.\n",
    "\n",
    "Elegido el esquema de muestreo, ahora es necesario determinar aspectos referentes a la muestra, en particular su tamaño y su procedimiento de selección.\n"
   ]
  },
  {
   "cell_type": "markdown",
   "id": "6299ea36",
   "metadata": {},
   "source": [
    "## Cálculo del tamaño de la muestra\n",
    "\n",
    "El tamaño de la muestra es el número de unidades de observación que deben estar incluidas en la muestra.\n",
    "\n",
    "En el tipo de muestreo probabilístico, contrario a la creencia de que el tamaño de muestra debe guardar cierta proporción con el tamaño de la población objeto de estudio, los aspectos que se involucran en el cálculo están relacionados con la característica o fenómeno a estudiar, el nivel de precisión y confianza que se desea lograr, el esquema de muestreo que se sigue para obtener la información, así como el dominio de estudio o área a la que se desea brindar la información.\n",
    "\n",
    "* Cuando una característica se presenta con frecuencia en la población objeto de estudio, el tamaño de muestra es menor que el requerido para una característica extraña o poco común, pues en este último caso se necesita entrevistar a una gran parte de la población objeto de estudio para obtener algunos casos que presenten la característica o fenómeno de interés.\n",
    "\n",
    "* La variabilidad de la característica a estudiar también se involucra, pues se requiere un tamaño de muestra mayor para indicadores que toman un número infinito de valores; por ejemplo, ingreso por trabajo (que va desde 0 por trabajador familiar sin pago, hasta lo que gana el director de alguna compañía), diferente a lo que se requiere para indicadores que toman valores más acotados como estatura al nacer.\n",
    "\n",
    "* El nivel de precisión está relacionado tanto con el error permitido (la distancia entre la estimación y el valor “real”) como con la confianza con que se va a ofrecer este resultado; por ejemplo, si se desea obtener resultados con 95% de confianza y un error máximo de 8%, significa que de 100 muestras sólo 5 tendrían un error mayor al 8 por ciento.\n",
    "\n",
    "* En el caso de las distintas subdivisiones territoriales (o dominios de estudio) indicadas por el desglose geográfico, se debe hacer un cálculo por separado para cada una de ellas; el tamaño de muestra final será la suma de los tamaños de muestra de cada subdivisión.\n",
    "\n",
    "Es común que en encuestas de propósitos múltiples se desee brindar información de distintos indicadores objetivo, de esta manera es necesario calcular un tamaño de muestra para cada uno y elegir el tamaño de muestra mayor, ya que éste cubrirá las especificaciones de precisión de todos los indicadores. \n",
    "\n",
    "Sin embargo, este tamaño de muestra puede resultar muy costoso, entonces se debe tomar la decisión de no incluir algunos indicadores en la encuesta, o bien, admitir para ellos un error de estimación más alto que para el resto. "
   ]
  },
  {
   "cell_type": "markdown",
   "id": "4400ffb1",
   "metadata": {},
   "source": [
    "Considerando todo lo anterior se debe elegir la expresión matemática que permita calcular el tamaño de muestra.\n",
    "\n",
    "Es necesario destacar que la expresión definida considerando los aspectos anteriores, se ve afectada por la modalidad de muestreo elegida y el número de etapas realizadas para obtener la información, es decir por el efecto del diseño (DEFF), la tasa de no respuesta (TNR), y el coeficiente de variación (CV), por lo cual la expresión matemática final debe incluir cada uno de estos términos.\n",
    "\n",
    "Por otra parte, el grado de complejidad de la ecuación también depende de los valores particulares que adquieran algunos de los aspectos arriba mencionados; así, por ejemplo, se puede tener una ecuación muy simple cuando: el error es absoluto, el tipo de parámetro es una proporción, la distribución del Indicador Objetivo es normal y el esquema por aplicar es MAS.\n",
    "\n",
    "**Observación.** El *efecto de diseño DEFF* es el cociente de la varianza en la estimación del diseño utilizado, entre la varianza obtenida, considerando un muestreo aleatorio simple para un mismo tamaño de muestra. Indica una medida de la pérdida o ganancia de precisión por usar un diseño más complejo en lugar de una muestra aleatoria simple."
   ]
  },
  {
   "cell_type": "markdown",
   "id": "1fce8012",
   "metadata": {},
   "source": [
    "Este es un ejemplo del cálculo de un tamaño de muestra para una proporción, considerando el efecto de diseño, la tasa de no respuesta, además de los elementos esenciales de precisión y confianza:\n",
    "\n",
    "$$n=\\frac{z^2qDEFF}{r^2p(1-tnr)}$$\n",
    "\n",
    "donde \n",
    "\n",
    "* $n$ es el tamaño de la muestra.\n",
    "* $z$ es el valor del cuantil de una distribución normal estándar para un nivel de confianza fijado.\n",
    "* $p$ estimación de la proporción de interés de una muestra piloto o de encuestas anteriores.\n",
    "* $r$ precisión relativa (error relativo fijo)\n",
    "* $q=1-p$\n",
    "* $tnr$ tasa de no respuesta\n",
    "* $DEFF$ efecto del diseño\n"
   ]
  }
 ],
 "metadata": {
  "kernelspec": {
   "display_name": "R",
   "language": "R",
   "name": "ir"
  },
  "language_info": {
   "codemirror_mode": "r",
   "file_extension": ".r",
   "mimetype": "text/x-r-source",
   "name": "R",
   "pygments_lexer": "r",
   "version": "3.6.1"
  }
 },
 "nbformat": 4,
 "nbformat_minor": 5
}
