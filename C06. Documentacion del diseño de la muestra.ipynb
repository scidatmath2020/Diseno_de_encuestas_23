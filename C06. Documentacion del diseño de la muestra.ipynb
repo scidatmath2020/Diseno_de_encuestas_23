{
 "cells": [
  {
   "cell_type": "markdown",
   "id": "761d23ed",
   "metadata": {},
   "source": [
    "![imagenes](logo.png)"
   ]
  },
  {
   "cell_type": "markdown",
   "id": "e2100ff9",
   "metadata": {},
   "source": [
    "# Documentación del diseño de la muestra\n",
    "\n",
    "## Nota metodológica del diseño de la muestral\n",
    "\n",
    "Finalmente, la actividad de cierre del subproceso de Diseño de la Muestra implica la elaboración de una nota metodológica del diseño de la muestra en la cual se documenten todos los aspectos importantes relacionados con el desarrollo de la propia Fase de Diseño.\n",
    "\n",
    "Entre ellos cabe destacar, en función del caso de que se trate, los siguientes:\n",
    "\n",
    "![imagenes](im21.png)"
   ]
  },
  {
   "cell_type": "markdown",
   "id": "bc41da24",
   "metadata": {},
   "source": [
    "En el desarrollo de estos puntos se deben plasmar tanto las características originalmente planteadas para el Diseño de la Muestra como los ajustes realizados a las mismas durante el proceso de aplicación. Ambas situaciones deben quedar establecidas con la mayor claridad posible.\n",
    "\n",
    "La documentación de los aspectos mencionados tiene como propósito presentar la metodología utilizada en la encuesta de una forma organizada, clara y lo más sencilla posible para facilitar su comprensión. Se pueden utilizar cuadros, gráficos e ilustraciones a fin de hacerla más atractiva. \n",
    "\n",
    "La descripción detallada debe presentarse en el orden lógico en que se desarrolló el trabajo, considerando los problemas enfrentados durante el Diseño de la Muestra y las soluciones correspondientes que se adoptaron. \n",
    "\n",
    "Para incrementar la utilidad de esta actividad, los expertos que participaron en este trabajo pueden aportar conclusiones y recomendaciones que se pueden incluir en un capítulo complementario.\n",
    "\n",
    "Con ello se ofrecen elementos para realizar mejoras en el Programa actual o para encuestas futuras."
   ]
  },
  {
   "cell_type": "markdown",
   "id": "ba6660eb",
   "metadata": {},
   "source": [
    "## Especificación  de los metadatos\n",
    "\n",
    "Los metadatos son datos estructurados que describen las características del contenido, captura, procesamiento, calidad, condición, acceso y distribución de Información estadística o geográfica. Proporcionan a los usuarios información sobre los datos existentes, describiendo los procesos de recolección, procesamiento y evaluación que se utilizaron en su generación, así como las formas de acceder a ellos, con la finalidad de que los usuarios puedan identificar, localizar y consultar los que atiendan de mejor manera sus necesidades.\n",
    "\n",
    "La documentación de metadatos ayuda a los usuarios con distintos niveles de especialización a:\n",
    "\n",
    "* Encontrar los datos en los que están interesados.\n",
    "\n",
    "* Entender qué es lo que están midiendo los datos y cómo se han creado.\n",
    "\n",
    "* Evaluar la calidad de los datos.\n",
    "\n"
   ]
  }
 ],
 "metadata": {
  "kernelspec": {
   "display_name": "R",
   "language": "R",
   "name": "ir"
  },
  "language_info": {
   "codemirror_mode": "r",
   "file_extension": ".r",
   "mimetype": "text/x-r-source",
   "name": "R",
   "pygments_lexer": "r",
   "version": "3.6.1"
  }
 },
 "nbformat": 4,
 "nbformat_minor": 5
}
