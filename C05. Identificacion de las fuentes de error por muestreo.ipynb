{
 "cells": [
  {
   "cell_type": "markdown",
   "id": "d41fd224",
   "metadata": {},
   "source": [
    "![imagenes](logo.png)"
   ]
  },
  {
   "cell_type": "markdown",
   "id": "4c854615",
   "metadata": {},
   "source": [
    "# Identificación de las fuentes de error por muestreo\n",
    "\n",
    "El error total de muestreo se refiere a todas las fuentes de sesgo y varianza de estimación que pueden afectar la precisión de los datos muestrales y surgen en el diseño de la muestra, captación, procesamiento y análisis de los datos de la encuesta. Estas fuentes se pueden agrupar en dos clases básicas:\n",
    "\n",
    "1. Representación. Se relaciona con la población objeto de estudio que será descrita en la encuesta. Responde a la pregunta ¿quiénes están incluidos en la muestra?\n",
    "\n",
    "2. Medición. Describe los datos que se obtendrán de la unidad de observación. Responde a la pregunta ¿cuál es la temática de la encuesta?\n",
    "\n",
    "Los costos, la carga para el informante, profesionalismo, la ética y las restricciones afectan a ambas clases de errores.\n",
    "\n",
    "La representatividad de una muestra está afectada por las siguientes fuentes de error:\n",
    "\n",
    "**a.** Error de cobertura. Las imperfecciones de un marco de muestreo causan una representatividad incompleta de la muestra para la población objeto de estudio. Esto genera una precisión deficiente en las estimaciones muestrales y sesgo de cobertura.\n",
    "\n",
    "**b.** Error de muestreo. Es el error que ocurre cuando una muestra es medida en lugar de la población objeto de estudio completa. Se compone por error fijo (sesgo) y un error variable (varianza). El sesgo muestral es la falla sistemática en observar a elementos en la muestra que tiene valores distintos en el Indicador Objetivo. La varianza muestral se refiere a la variabilidad de las estimaciones por las posibles muestras obtenidas, que son afectadas por el tamaño de muestra, así como por la conglomeración, estratificación y ponderación.\n",
    "\n",
    "**c.** Error por no respuesta. La no respuesta por unidad o total sucede cuando un informante seleccionado no puede ser encontrado, se niega a ser entrevistado o existen barreras de comunicación. El sesgo por no respuesta se genera cuando la no respuesta por unidad está correlacionada con una o más indicadores objetivo.\n",
    "\n",
    "**d.** Error por ajustes posteriores. Cuando se ha concluido la captación de datos de una encuesta basada en muestreo probabilístico, se llevan a cabo ajustes para considerar el sesgo de selección, errores de cobertura y errores por no respuesta. Deben notarse las diferencias entre los ajustes hechos debido al diseño de la muestra (por ejemplo, ajustar la probabilidad de selección del informante por el tamaño del hogar) y los ajustes hechos para eliminar las diferencias entre los resultados de la estimación muestral y las estadísticas oficiales disponibles.\n",
    "\n",
    "En la figura siguiente se agrupan los errores por representación en cuatro categorías: de cobertura, de muestreo, por no respuesta y por ajustes posteriores.\n",
    "\n",
    "![imagenes](im19.png)"
   ]
  },
  {
   "cell_type": "markdown",
   "id": "d7992e89",
   "metadata": {},
   "source": [
    "Los componentes del error de Medición, presentadas en la figura siguiente, se describen a continuación.\n",
    "\n",
    "**a.** Validez. La encuesta mide correctamente el constructo planeado por la temática de la encuesta. \n",
    "\n",
    "**b.** Error de medición y en el proceso de respuesta. Este tipo de errores ocurren cuando los valores verdaderos difieren del valor medido en la unidad muestreada.\n",
    "\n",
    "**c.** Error de procesamiento. El procesamiento de la información de la encuesta incluye la captura, codificación y edición. El personal a cargo del procesamiento de datos puede introducir errores fijos y aleatorios.\n",
    "\n",
    "![imagenes](im20.png)"
   ]
  }
 ],
 "metadata": {
  "kernelspec": {
   "display_name": "R",
   "language": "R",
   "name": "ir"
  },
  "language_info": {
   "codemirror_mode": "r",
   "file_extension": ".r",
   "mimetype": "text/x-r-source",
   "name": "R",
   "pygments_lexer": "r",
   "version": "3.6.1"
  }
 },
 "nbformat": 4,
 "nbformat_minor": 5
}
