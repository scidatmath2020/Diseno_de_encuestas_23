{
 "cells": [
  {
   "cell_type": "markdown",
   "id": "4cb72956",
   "metadata": {},
   "source": [
    "![imagenes](logo.png)"
   ]
  },
  {
   "cell_type": "markdown",
   "id": "c3fd06b1",
   "metadata": {},
   "source": [
    "# Diseño del cuestionario\n",
    "\n",
    "Primero que todo, debemos entender las características principales de un buen cuestionario.\n",
    "\n",
    "* Debe tener un conjunto de preguntas formales y espec´ıficas. Esto es, preguntas que se alineen ´unicamente con el objetivo de nuestra investigación y que formulados con un formato correcto.\n",
    "\n",
    "* Las preguntas pueden ser o no estructuradas. Esto significa que pueden seguir una estructura de opciones m´ultiples o bien, preguntas cuyas respuestas pueden ser de cualquier tipo.\n",
    "\n",
    "* Algo que siempre debes considerar es que tus preguntas deben incluir situaciones u objetivos espec´ıficos de tu inter´es de estudio. Recuerda: enfócate en los objetivos de tu investigación.\n",
    "\n",
    "## Proceso de diseño\n",
    "\n",
    "Veamos los pasos para diseñar un cuestionario\n",
    "\n",
    "![imagenes](im22.png)"
   ]
  },
  {
   "cell_type": "markdown",
   "id": "0289ec4a",
   "metadata": {},
   "source": [
    "## Tipos de preguntas\n",
    "\n",
    "Existen tres tipos básicos\n",
    "\n",
    "![imagenes](im23.png)\n",
    "\n",
    "Además, dependiendo del formato y la seriación de las preguntas, también tenemos:\n",
    "\n",
    "* **Detección.** Preguntas que sirven para saber si el entrevistado está o no en condiciones de responder todo o parcialmente el cuestionario.\n",
    "\n",
    "* **Apertura.** Son preguntas iniciales que sirven para dirigir al entrevistado. Deben ser atrevidas, pero sencillas y fáciles de responder.\n",
    "\n",
    "* **Declaraciones de transición.** Sirven para hacer que el entrevistado se mueva de una sección a otra del cuestionario.\n",
    "\n",
    "* **Difíciles.** Se trata de preguntas sensibles o difíciles de responder y deben dejarse para el final del cuestionario.\n",
    "\n"
   ]
  },
  {
   "cell_type": "markdown",
   "id": "0c4f6e3a",
   "metadata": {},
   "source": [
    "## Niveles de mediciones de datos\n",
    "\n",
    "Existen cuatro niveles para clasificar nuestros datos.\n",
    "\n",
    "* Nominales.\n",
    "* Ordinales.\n",
    "* Intervalo.\n",
    "* Razón."
   ]
  },
  {
   "cell_type": "markdown",
   "id": "9f4277f9",
   "metadata": {},
   "source": [
    "## Tipos de escala en ítems\n",
    "\n",
    "### Escalas con un solo ítem\n",
    "\n",
    "![imagenes](im24.png)\n",
    "\n",
    "\n",
    "**Opción múltiple**\n",
    "\n",
    "¿Asistes a misa?\n",
    "* Sí\n",
    "* No\n",
    "\n",
    "¿Qué tan seguido realizas la actividad asistes a misa?\n",
    "\n",
    "* Diariamente\n",
    "* Semanalmente\n",
    "* Mensualmente\n",
    "* Anualmente\n",
    "* Nunca\n",
    "\n",
    "**Opción rankeada forzada**\n",
    "\n",
    "¿Qué tan satisfecho te ha dejado este curso?\n",
    "\n",
    "* Muy satisfecho\n",
    "* Satisfecho\n",
    "* Insatisfecho\n",
    "* Muy insatisfecho\n",
    "\n",
    "**Escala de suma constante**\n",
    "\n",
    "Si tuvieras únicamente $100 para gastar durante este mes, ¿cómo los distribuirías para los siguientes gastos?\n",
    "\n",
    "* Gastos domésticos (comida, agua, electricidad, etc)\n",
    "* Entretenimiento\n",
    "* Material para trabajo/escuela\n",
    "* Otros\n",
    "\n",
    "**Cuantificación directa**\n",
    "\n",
    "¿Cuánto dinero gastas mensualmente en gastos domésticos?"
   ]
  },
  {
   "cell_type": "markdown",
   "id": "8a2ff44f",
   "metadata": {},
   "source": [
    "\n",
    "### Escalas con varios ítems\n",
    "\n",
    "![imagenes](im25.png)\n",
    "\n",
    "**Escala de Likert**\n",
    "\n",
    "El sabor en la comida que consumo es lo más importante para elegir un lugar en el que comer.\n",
    "1. Totalmente en desacuerdo\n",
    "2. En desacuerdo\n",
    "3. Ni de acuerdo ni en desacuerdo\n",
    "4. De acuerdo\n",
    "5. Totalmente de acuerdo\n",
    "\n",
    "**Diferenciación semántica**\n",
    "\n",
    "Si 1 es *muy barato* y 5 es *muy caro*, ¿qué calificación le otorgas al boleto del autobús en tu ciudad?\n",
    "![imagenes](im27.png)\n",
    "\n",
    "**Escala de Stapel**\n",
    "\n",
    "Califica las habilidades de tu instructor\n",
    "![imagenes](im28.png)\n",
    "\n",
    "****"
   ]
  },
  {
   "cell_type": "markdown",
   "id": "de5bf920",
   "metadata": {},
   "source": [
    "### Escala continua\n",
    "\n",
    "![imagenes](im26.png)\n",
    "\n",
    "¿Qué porcentaje de gastos dedicas mensualmente a tu ahorro?"
   ]
  }
 ],
 "metadata": {
  "kernelspec": {
   "display_name": "R",
   "language": "R",
   "name": "ir"
  },
  "language_info": {
   "codemirror_mode": "r",
   "file_extension": ".r",
   "mimetype": "text/x-r-source",
   "name": "R",
   "pygments_lexer": "r",
   "version": "3.6.1"
  }
 },
 "nbformat": 4,
 "nbformat_minor": 5
}
